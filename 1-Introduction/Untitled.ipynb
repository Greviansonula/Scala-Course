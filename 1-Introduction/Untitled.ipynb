{
 "cells": [
  {
   "cell_type": "code",
   "execution_count": 2,
   "id": "0b8ae053",
   "metadata": {},
   "outputs": [],
   "source": [
    "# pip install yfinance boto3"
   ]
  },
  {
   "cell_type": "code",
   "execution_count": 3,
   "id": "e0dc3e76",
   "metadata": {},
   "outputs": [
    {
     "name": "stdout",
     "output_type": "stream",
     "text": [
      "[*********************100%***********************]  1 of 1 completed\n",
      "                           Open        High         Low       Close  \\\n",
      "Datetime                                                              \n",
      "2022-12-30 09:30:00  128.410004  128.619995  128.039993  128.494995   \n",
      "2022-12-30 09:31:00  128.479996  128.589996  128.039993  128.115005   \n",
      "2022-12-30 09:32:00  128.110001  128.119995  127.900002  128.100006   \n",
      "2022-12-30 09:33:00  128.080093  128.500000  128.050003  128.449997   \n",
      "2022-12-30 09:34:00  128.449997  128.690002  128.380005  128.565002   \n",
      "\n",
      "                      Adj Close   Volume  \n",
      "Datetime                                  \n",
      "2022-12-30 09:30:00  128.494995  1611706  \n",
      "2022-12-30 09:31:00  128.115005   298598  \n",
      "2022-12-30 09:32:00  128.100006   471102  \n",
      "2022-12-30 09:33:00  128.449997   307921  \n",
      "2022-12-30 09:34:00  128.565002   343178  \n"
     ]
    }
   ],
   "source": [
    "import yfinance as yf\n",
    "\n",
    "# Download the data\n",
    "data = yf.download('AAPL', period='1d', interval='1m')\n",
    "\n",
    "# Print the first few rows\n",
    "print(data.head())"
   ]
  },
  {
   "cell_type": "code",
   "execution_count": 4,
   "id": "a4ddfd63",
   "metadata": {},
   "outputs": [],
   "source": [
    "data.to_csv(\"AAPL.csv\")"
   ]
  },
  {
   "cell_type": "code",
   "execution_count": null,
   "id": "b5bf60b9",
   "metadata": {},
   "outputs": [],
   "source": []
  }
 ],
 "metadata": {
  "kernelspec": {
   "display_name": "Python 3 (ipykernel)",
   "language": "python",
   "name": "python3"
  },
  "language_info": {
   "codemirror_mode": {
    "name": "ipython",
    "version": 3
   },
   "file_extension": ".py",
   "mimetype": "text/x-python",
   "name": "python",
   "nbconvert_exporter": "python",
   "pygments_lexer": "ipython3",
   "version": "3.9.13"
  }
 },
 "nbformat": 4,
 "nbformat_minor": 5
}
