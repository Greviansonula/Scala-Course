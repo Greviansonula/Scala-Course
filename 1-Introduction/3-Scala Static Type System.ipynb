{
 "cells": [
  {
   "cell_type": "markdown",
   "id": "a36a98fe",
   "metadata": {},
   "source": [
    "- Type : restricts the possible values to which a variable can refer or an expression can produce at run time\n",
    "- Compile time : when source code is translated into machine code \n",
    "- Run time : when the program is executing commands (after compilation, if compiled)\n",
    "- Static type system - .. if a variable is known at compile time ie type checked before runtime. e.g C/C++, Fortran, Scala\n",
    "- Dynamic type system - .. types a checked on the fly i.e checked during execution ie runtime. e.g python, Js, R, Ruby"
   ]
  },
  {
   "cell_type": "markdown",
   "id": "329918ac",
   "metadata": {},
   "source": [
    "Pros of static type systems\n",
    "- increased performance at run time\n",
    "- Program properties verified (common type bugs)\n",
    "- Safe refactorings\n",
    "- Documentation in the form of type annotation (e.g : Int)\n",
    "\n",
    "Cons\n",
    "- Delay before execution while type checking\n",
    "- Code is verbose (longer) - with advanced techniques scala tries to address this through type inference\n",
    "- Language not flexible - with pattern matching scala tries to address this"
   ]
  },
  {
   "cell_type": "markdown",
   "id": "96c6d814",
   "metadata": {},
   "source": [
    "## Reducing verbosity (with variables)"
   ]
  },
  {
   "cell_type": "code",
   "execution_count": 3,
   "id": "c8a17dcc",
   "metadata": {},
   "outputs": [
    {
     "data": {
      "text/plain": [
       "\u001b[36mfourHearts\u001b[39m: \u001b[32mInt\u001b[39m = \u001b[32m4\u001b[39m"
      ]
     },
     "execution_count": 3,
     "metadata": {},
     "output_type": "execute_result"
    }
   ],
   "source": [
    "// Without type inference\n",
    "val fourHearts: Int = 4"
   ]
  },
  {
   "cell_type": "code",
   "execution_count": 4,
   "id": "d58a512a",
   "metadata": {},
   "outputs": [
    {
     "data": {
      "text/plain": [
       "\u001b[36mfourHearts\u001b[39m: \u001b[32mInt\u001b[39m = \u001b[32m4\u001b[39m"
      ]
     },
     "execution_count": 4,
     "metadata": {},
     "output_type": "execute_result"
    }
   ],
   "source": [
    "// With type inference\n",
    "val fourHearts = 4"
   ]
  },
  {
   "cell_type": "markdown",
   "id": "20f37462",
   "metadata": {},
   "source": [
    "## Reducing verbosity (with variables)"
   ]
  },
  {
   "cell_type": "code",
   "execution_count": 7,
   "id": "103c6c59",
   "metadata": {},
   "outputs": [
    {
     "data": {
      "text/plain": [
       "\u001b[36mplayers\u001b[39m: \u001b[32mArray\u001b[39m[\u001b[32mString\u001b[39m] = \u001b[33mArray\u001b[39m(\u001b[32m\"Jane\"\u001b[39m, \u001b[32m\"Joseph\"\u001b[39m)"
      ]
     },
     "execution_count": 7,
     "metadata": {},
     "output_type": "execute_result"
    }
   ],
   "source": [
    "// Without type inference\n",
    "val players: Array[String] = Array(\"Jane\", \"Joseph\")"
   ]
  },
  {
   "cell_type": "code",
   "execution_count": 8,
   "id": "0a01f4bf",
   "metadata": {},
   "outputs": [
    {
     "data": {
      "text/plain": [
       "\u001b[36mplayer\u001b[39m: \u001b[32mArray\u001b[39m[\u001b[32mString\u001b[39m] = \u001b[33mArray\u001b[39m(\u001b[32m\"Jane\"\u001b[39m, \u001b[32m\"Joseph\"\u001b[39m)"
      ]
     },
     "execution_count": 8,
     "metadata": {},
     "output_type": "execute_result"
    }
   ],
   "source": [
    "// With type inference\n",
    "val player = Array(\"Jane\", \"Joseph\")"
   ]
  },
  {
   "cell_type": "code",
   "execution_count": 8,
   "id": "8a203c6f",
   "metadata": {},
   "outputs": [],
   "source": [
    "// When type inference should't be used\n",
    "// ..."
   ]
  },
  {
   "cell_type": "code",
   "execution_count": null,
   "id": "f5a52304",
   "metadata": {},
   "outputs": [],
   "source": []
  }
 ],
 "metadata": {
  "kernelspec": {
   "display_name": "Scala",
   "language": "scala",
   "name": "scala"
  },
  "language_info": {
   "codemirror_mode": "text/x-scala",
   "file_extension": ".sc",
   "mimetype": "text/x-scala",
   "name": "scala",
   "nbconvert_exporter": "script",
   "version": "2.13.10"
  }
 },
 "nbformat": 4,
 "nbformat_minor": 5
}
