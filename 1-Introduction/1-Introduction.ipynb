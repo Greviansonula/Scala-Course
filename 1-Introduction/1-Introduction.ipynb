{
 "cells": [
  {
   "cell_type": "markdown",
   "id": "fefdefc9",
   "metadata": {},
   "source": [
    "## Variables: Immutable"
   ]
  },
  {
   "cell_type": "code",
   "execution_count": 7,
   "id": "1d462e9c",
   "metadata": {},
   "outputs": [
    {
     "data": {
      "text/plain": [
       "\u001b[36mjs\u001b[39m: \u001b[32mString\u001b[39m = \u001b[32m\"Peter rodes\"\u001b[39m"
      ]
     },
     "execution_count": 7,
     "metadata": {},
     "output_type": "execute_result"
    }
   ],
   "source": [
    "val js = \"Peter rodes\""
   ]
  },
  {
   "cell_type": "code",
   "execution_count": 8,
   "id": "a31af85c",
   "metadata": {},
   "outputs": [
    {
     "name": "stdout",
     "output_type": "stream",
     "text": [
      "Peter rodes\n"
     ]
    }
   ],
   "source": [
    "println(js)"
   ]
  },
  {
   "cell_type": "code",
   "execution_count": 9,
   "id": "a6c699f1",
   "metadata": {},
   "outputs": [
    {
     "data": {
      "text/plain": [
       "\u001b[36mres8\u001b[39m: \u001b[32mString\u001b[39m = \u001b[32m\"Peter rodes\"\u001b[39m"
      ]
     },
     "execution_count": 9,
     "metadata": {},
     "output_type": "execute_result"
    }
   ],
   "source": [
    "js"
   ]
  },
  {
   "cell_type": "code",
   "execution_count": 9,
   "id": "dfc759db",
   "metadata": {},
   "outputs": [
    {
     "name": "stderr",
     "output_type": "stream",
     "text": [
      "cmd9.sc:1: reassignment to val\n",
      "val res9 = js = \"Failed to initialize\"\n",
      "              ^Compilation Failed"
     ]
    },
    {
     "ename": "",
     "evalue": "",
     "output_type": "error",
     "traceback": [
      "Compilation Failed"
     ]
    }
   ],
   "source": [
    "// Try reinitializing\n",
    "js = \"Failed to initialize\""
   ]
  },
  {
   "cell_type": "markdown",
   "id": "01ecc59d",
   "metadata": {},
   "source": [
    "## Variables: Mutable"
   ]
  },
  {
   "cell_type": "code",
   "execution_count": 10,
   "id": "b66518bd",
   "metadata": {},
   "outputs": [
    {
     "data": {
      "text/html": [
       "<div class=\"jp-RenderedText\">\n",
       "<pre><code><span style=\"color: rgb(0, 187, 187)\"><span class=\"ansi-cyan-fg\">js</span></span>: <span style=\"color: rgb(0, 187, 0)\"><span class=\"ansi-green-fg\">String</span></span> = <style>@keyframes fadein { from { opacity: 0; } to { opacity: 1; } }</style><span style=\"animation: fadein 2s;\"><span style=\"color: rgb(0, 187, 0)\"><span class=\"ansi-green-fg\">&quot;Nice lesson&quot;</span></span></span></code></pre>\n",
       "</div>"
      ],
      "text/plain": [
       "\u001b[36mjs\u001b[39m: \u001b[32mString\u001b[39m = \u001b[32m\"Nice lesson\"\u001b[39m"
      ]
     },
     "metadata": {},
     "output_type": "display_data"
    }
   ],
   "source": [
    "var js = \"Strings guy\""
   ]
  },
  {
   "cell_type": "code",
   "execution_count": 12,
   "id": "0bd8eb07",
   "metadata": {},
   "outputs": [],
   "source": [
    "// Try reinitializing\n",
    "js = \"Nice lesson\""
   ]
  },
  {
   "cell_type": "code",
   "execution_count": 14,
   "id": "2a3157f7",
   "metadata": {},
   "outputs": [
    {
     "data": {
      "text/plain": [
       "\u001b[36mn1\u001b[39m: \u001b[32mInt\u001b[39m = \u001b[32m4\u001b[39m\r\n",
       "\u001b[36mn2\u001b[39m: \u001b[32mInt\u001b[39m = \u001b[32m6\u001b[39m\r\n",
       "\u001b[36mres13_2\u001b[39m: \u001b[32mInt\u001b[39m = \u001b[32m10\u001b[39m"
      ]
     },
     "execution_count": 14,
     "metadata": {},
     "output_type": "execute_result"
    }
   ],
   "source": [
    "// Everying in scala is an object\n",
    "val n1 = 4\n",
    "val n2 = 6\n",
    "n2.+(n1)"
   ]
  },
  {
   "cell_type": "code",
   "execution_count": null,
   "id": "edd9f6dc",
   "metadata": {},
   "outputs": [],
   "source": []
  }
 ],
 "metadata": {
  "kernelspec": {
   "display_name": "Scala",
   "language": "scala",
   "name": "scala"
  },
  "language_info": {
   "codemirror_mode": "text/x-scala",
   "file_extension": ".sc",
   "mimetype": "text/x-scala",
   "name": "scala",
   "nbconvert_exporter": "script",
   "version": "2.13.10"
  }
 },
 "nbformat": 4,
 "nbformat_minor": 5
}
