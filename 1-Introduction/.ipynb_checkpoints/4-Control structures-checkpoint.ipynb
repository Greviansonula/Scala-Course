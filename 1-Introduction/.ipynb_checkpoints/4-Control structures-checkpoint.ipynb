{
 "cells": [
  {
   "cell_type": "markdown",
   "id": "7f1e3b16",
   "metadata": {},
   "source": [
    "## Making Desicions with if and else"
   ]
  },
  {
   "cell_type": "code",
   "execution_count": 1,
   "id": "7fcfff51",
   "metadata": {
    "scrolled": true
   },
   "outputs": [
    {
     "name": "stdout",
     "output_type": "stream",
     "text": [
      "This hand busts\n"
     ]
    },
    {
     "data": {
      "text/plain": [
       "\u001b[36mhand\u001b[39m: \u001b[32mInt\u001b[39m = \u001b[32m24\u001b[39m"
      ]
     },
     "execution_count": 1,
     "metadata": {},
     "output_type": "execute_result"
    }
   ],
   "source": [
    "// A single if\n",
    "val hand = 24\n",
    "\n",
    "if (hand > 21) {\n",
    "    println(\"This hand busts\")\n",
    "}"
   ]
  },
  {
   "cell_type": "code",
   "execution_count": 10,
   "id": "39402c48",
   "metadata": {},
   "outputs": [
    {
     "name": "stdout",
     "output_type": "stream",
     "text": [
      "24\n",
      "24\n",
      "24\n"
     ]
    },
    {
     "data": {
      "text/plain": [
       "\u001b[36mhandA\u001b[39m: \u001b[32mInt\u001b[39m = \u001b[32m24\u001b[39m\r\n",
       "\u001b[36mhandB\u001b[39m: \u001b[32mInt\u001b[39m = \u001b[32m19\u001b[39m"
      ]
     },
     "execution_count": 10,
     "metadata": {},
     "output_type": "execute_result"
    }
   ],
   "source": [
    "val handA = 17.+(7)\n",
    "val handB = 19\n",
    "\n",
    "if (handA > handB) println(handA)\n",
    "else println(handB)\n",
    "\n",
    "// \n",
    "if (handA > handB) println(handA) else println(handB)\n",
    "\n",
    "// \n",
    "if (handA > handB) \n",
    "    println(handA) \n",
    "else\n",
    "    println(handB)"
   ]
  },
  {
   "cell_type": "code",
   "execution_count": 3,
   "id": "0b8dba23",
   "metadata": {},
   "outputs": [
    {
     "data": {
      "text/plain": [
       "defined \u001b[32mfunction\u001b[39m \u001b[36mmaxHand\u001b[39m\r\n",
       "\u001b[36mres2_1\u001b[39m: \u001b[32mInt\u001b[39m = \u001b[32m23\u001b[39m"
      ]
     },
     "execution_count": 3,
     "metadata": {},
     "output_type": "execute_result"
    }
   ],
   "source": [
    "// if-else control flow\n",
    "def maxHand(handA: Int, handB: Int): Int = {\n",
    "    if (handA > handB) handA\n",
    "    else handB\n",
    "}\n",
    "maxHand(23, 4)"
   ]
  },
  {
   "cell_type": "code",
   "execution_count": 11,
   "id": "c12a1ac4",
   "metadata": {},
   "outputs": [
    {
     "data": {
      "text/plain": [
       "defined \u001b[32mfunction\u001b[39m \u001b[36mbust\u001b[39m"
      ]
     },
     "execution_count": 11,
     "metadata": {},
     "output_type": "execute_result"
    }
   ],
   "source": [
    "def bust(hand: Int): Boolean = {\n",
    "    hand > 21\n",
    "}"
   ]
  },
  {
   "cell_type": "code",
   "execution_count": 12,
   "id": "0612a459",
   "metadata": {},
   "outputs": [
    {
     "name": "stdout",
     "output_type": "stream",
     "text": [
      "19\n"
     ]
    }
   ],
   "source": [
    "// if else if else\n",
    "// If both hands bust, neither wins\n",
    "if (bust(handA) & bust(handB)) println(0)\n",
    "// If hand A busts and B wins\n",
    "else if (bust(handA)) println(handB)\n",
    "// If hand B busts and A wins\n",
    "else if (bust(handB)) println(handA)\n",
    "// Hand B wins otherwise\n",
    "else println(handB)"
   ]
  },
  {
   "cell_type": "code",
   "execution_count": 13,
   "id": "aafc7482",
   "metadata": {},
   "outputs": [
    {
     "data": {
      "text/plain": [
       "\u001b[36mmaxHand\u001b[39m: \u001b[32mInt\u001b[39m = \u001b[32m24\u001b[39m"
      ]
     },
     "execution_count": 13,
     "metadata": {},
     "output_type": "execute_result"
    }
   ],
   "source": [
    "// if is an expression, and they result in values hence\n",
    "val maxHand = if (handA > handB) handA else handB"
   ]
  },
  {
   "cell_type": "markdown",
   "id": "4684a003",
   "metadata": {},
   "source": [
    "## Relational and logical operators"
   ]
  },
  {
   "cell_type": "code",
   "execution_count": 13,
   "id": "8a88fc41",
   "metadata": {},
   "outputs": [],
   "source": [
    "// Logical\n",
    "// And &&\n",
    "// Or ||\n",
    "// Not !\n",
    "// Relational operators are similar to C++ operators eg Not equal : !="
   ]
  },
  {
   "cell_type": "markdown",
   "id": "27683976",
   "metadata": {},
   "source": [
    "## While and the imperative style"
   ]
  },
  {
   "cell_type": "code",
   "execution_count": 3,
   "id": "95e04317",
   "metadata": {},
   "outputs": [
    {
     "name": "stdout",
     "output_type": "stream",
     "text": [
      "Hip hip hooray!\n",
      "Hip hip hooray!\n",
      "Hip hip hooray!\n"
     ]
    },
    {
     "data": {
      "text/html": [
       "<div class=\"jp-RenderedText\">\n",
       "<pre><code><span style=\"color: rgb(0, 187, 187)\"><span class=\"ansi-cyan-fg\">i</span></span>: <span style=\"color: rgb(0, 187, 0)\"><span class=\"ansi-green-fg\">Int</span></span> = <span style=\"color: rgb(0, 187, 0)\"><span class=\"ansi-green-fg\">3</span></span>\r\n",
       "<span style=\"color: rgb(0, 187, 187)\"><span class=\"ansi-cyan-fg\">numRepetitions</span></span>: <span style=\"color: rgb(0, 187, 0)\"><span class=\"ansi-green-fg\">Int</span></span> = <span style=\"color: rgb(0, 187, 0)\"><span class=\"ansi-green-fg\">3</span></span></code></pre>\n",
       "</div>"
      ],
      "text/plain": [
       "\u001b[36mi\u001b[39m: \u001b[32mInt\u001b[39m = \u001b[32m3\u001b[39m\r\n",
       "\u001b[36mnumRepetitions\u001b[39m: \u001b[32mInt\u001b[39m = \u001b[32m3\u001b[39m"
      ]
     },
     "metadata": {},
     "output_type": "display_data"
    }
   ],
   "source": [
    "// Define counter variable\n",
    "var i = 0\n",
    "\n",
    "// Define the number of times to loop\n",
    "val numRepetitions = 3\n",
    "\n",
    "// Loop to repeat the cheer\n",
    "while (i < numRepetitions) {\n",
    "    println(\"Hip hip hooray!\")\n",
    "    i = i + 1 // i += 1\n",
    "}"
   ]
  },
  {
   "cell_type": "code",
   "execution_count": 5,
   "id": "4c291b45",
   "metadata": {},
   "outputs": [
    {
     "name": "stdout",
     "output_type": "stream",
     "text": [
      "17\n",
      "24\n",
      "21\n"
     ]
    },
    {
     "data": {
      "text/html": [
       "<div class=\"jp-RenderedText\">\n",
       "<pre><code><span style=\"color: rgb(0, 187, 187)\"><span class=\"ansi-cyan-fg\">i</span></span>: <span style=\"color: rgb(0, 187, 0)\"><span class=\"ansi-green-fg\">Int</span></span> = <span style=\"color: rgb(0, 187, 0)\"><span class=\"ansi-green-fg\">3</span></span>\r\n",
       "<span style=\"color: rgb(0, 187, 187)\"><span class=\"ansi-cyan-fg\">hands</span></span>: <span style=\"color: rgb(0, 187, 0)\"><span class=\"ansi-green-fg\">Array</span></span>[<span style=\"color: rgb(0, 187, 0)\"><span class=\"ansi-green-fg\">Int</span></span>] = <span style=\"color: yellow\"><span class=\"ansi-yellow-fg\">Array</span></span>(<span style=\"color: rgb(0, 187, 0)\"><span class=\"ansi-green-fg\">17</span></span>, <span style=\"color: rgb(0, 187, 0)\"><span class=\"ansi-green-fg\">24</span></span>, <span style=\"color: rgb(0, 187, 0)\"><span class=\"ansi-green-fg\">21</span></span>)</code></pre>\n",
       "</div>"
      ],
      "text/plain": [
       "\u001b[36mi\u001b[39m: \u001b[32mInt\u001b[39m = \u001b[32m3\u001b[39m\r\n",
       "\u001b[36mhands\u001b[39m: \u001b[32mArray\u001b[39m[\u001b[32mInt\u001b[39m] = \u001b[33mArray\u001b[39m(\u001b[32m17\u001b[39m, \u001b[32m24\u001b[39m, \u001b[32m21\u001b[39m)"
      ]
     },
     "metadata": {},
     "output_type": "display_data"
    }
   ],
   "source": [
    "// Looping over a collection\n",
    "var i = 0\n",
    "\n",
    "var hands = Array(17, 24, 21)\n",
    "\n",
    "while (i < hands.length) {\n",
    "    println(hands(i))\n",
    "    i = i + 1\n",
    "}"
   ]
  },
  {
   "cell_type": "markdown",
   "id": "0559dcb3",
   "metadata": {},
   "source": [
    "## foreach and the functional style"
   ]
  },
  {
   "cell_type": "markdown",
   "id": "57eb24e4",
   "metadata": {},
   "source": [
    "The functional style\n",
    "- Scala is usually functional but can also be imperative\n",
    " 1. functions are first-class values"
   ]
  },
  {
   "cell_type": "code",
   "execution_count": 6,
   "id": "550872cf",
   "metadata": {},
   "outputs": [
    {
     "data": {
      "text/plain": [
       "defined \u001b[32mfunction\u001b[39m \u001b[36mbust\u001b[39m"
      ]
     },
     "execution_count": 6,
     "metadata": {},
     "output_type": "execute_result"
    }
   ],
   "source": [
    "def bust(hand: Int) = {\n",
    "    println(hand > 21)\n",
    "}"
   ]
  },
  {
   "cell_type": "code",
   "execution_count": 5,
   "id": "1cc4d636",
   "metadata": {},
   "outputs": [
    {
     "name": "stderr",
     "output_type": "stream",
     "text": [
      "(console):1:27 expected id\r\n",
      "var hands = Array(17, 24. 21)\n",
      "\n",
      "hands.foreach(println)\r\n",
      "                          ^"
     ]
    },
    {
     "ename": "",
     "evalue": "",
     "output_type": "error",
     "traceback": [
      "(console):1:27 expected id\r\nvar hands = Array(17, 24. 21)\n\nhands.foreach(println)\r\n                          ^"
     ]
    }
   ],
   "source": [
    "var hands = Array(17, 24. 21)\n",
    "\n",
    "hands.foreach(println)"
   ]
  },
  {
   "cell_type": "code",
   "execution_count": null,
   "id": "64ac9f77",
   "metadata": {},
   "outputs": [],
   "source": []
  },
  {
   "cell_type": "code",
   "execution_count": null,
   "id": "3d03122f",
   "metadata": {},
   "outputs": [],
   "source": [
    "// Foreach is not a built-in control structure but a method that takes \n",
    "// a function as an argument"
   ]
  }
 ],
 "metadata": {
  "kernelspec": {
   "display_name": "Scala",
   "language": "scala",
   "name": "scala"
  },
  "language_info": {
   "codemirror_mode": "text/x-scala",
   "file_extension": ".sc",
   "mimetype": "text/x-scala",
   "name": "scala",
   "nbconvert_exporter": "script",
   "version": "2.13.10"
  }
 },
 "nbformat": 4,
 "nbformat_minor": 5
}
