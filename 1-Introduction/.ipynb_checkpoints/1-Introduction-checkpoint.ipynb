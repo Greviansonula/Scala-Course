{
 "cells": [
  {
   "cell_type": "code",
   "execution_count": 3,
   "id": "1d462e9c",
   "metadata": {},
   "outputs": [
    {
     "data": {
      "text/plain": [
       "\u001b[36mjs\u001b[39m: \u001b[32mString\u001b[39m = \u001b[32m\"This is gret man\"\u001b[39m"
      ]
     },
     "execution_count": 3,
     "metadata": {},
     "output_type": "execute_result"
    }
   ],
   "source": [
    "val js = \"This is gret man\""
   ]
  },
  {
   "cell_type": "code",
   "execution_count": 4,
   "id": "a31af85c",
   "metadata": {},
   "outputs": [
    {
     "name": "stdout",
     "output_type": "stream",
     "text": [
      "This is gret man\n"
     ]
    }
   ],
   "source": [
    "println(js)"
   ]
  },
  {
   "cell_type": "code",
   "execution_count": 5,
   "id": "a6c699f1",
   "metadata": {},
   "outputs": [
    {
     "data": {
      "text/plain": [
       "\u001b[36mres4\u001b[39m: \u001b[32mString\u001b[39m = \u001b[32m\"This is gret man\"\u001b[39m"
      ]
     },
     "execution_count": 5,
     "metadata": {},
     "output_type": "execute_result"
    }
   ],
   "source": [
    "js"
   ]
  },
  {
   "cell_type": "code",
   "execution_count": 8,
   "id": "693f2858",
   "metadata": {},
   "outputs": [
    {
     "name": "stderr",
     "output_type": "stream",
     "text": [
      "cmd8.sc:2: type mismatch;\n",
      " found   : Boolean\n",
      " required: Int\n",
      "    hand > 21\n",
      "         ^Compilation Failed"
     ]
    },
    {
     "ename": "",
     "evalue": "",
     "output_type": "error",
     "traceback": [
      "Compilation Failed"
     ]
    }
   ],
   "source": [
    "def bust(hand: Int): Int = {\n",
    "    hand > 21\n",
    "}"
   ]
  },
  {
   "cell_type": "code",
   "execution_count": 7,
   "id": "ead297d6",
   "metadata": {},
   "outputs": [
    {
     "data": {
      "text/plain": [
       "\u001b[36mres6\u001b[39m: \u001b[32mBoolean\u001b[39m = \u001b[32mfalse\u001b[39m"
      ]
     },
     "execution_count": 7,
     "metadata": {},
     "output_type": "execute_result"
    }
   ],
   "source": [
    "bust(5)"
   ]
  },
  {
   "cell_type": "code",
   "execution_count": 8,
   "id": "bf1c473a",
   "metadata": {},
   "outputs": [
    {
     "data": {
      "text/plain": [
       "\u001b[36mres7\u001b[39m: \u001b[32mBoolean\u001b[39m = \u001b[32mtrue\u001b[39m"
      ]
     },
     "execution_count": 8,
     "metadata": {},
     "output_type": "execute_result"
    }
   ],
   "source": [
    "bust(54)"
   ]
  },
  {
   "cell_type": "code",
   "execution_count": 11,
   "id": "2c242dc3",
   "metadata": {},
   "outputs": [
    {
     "name": "stdout",
     "output_type": "stream",
     "text": [
      "false"
     ]
    }
   ],
   "source": [
    "// Functions being first values in scalar means you can pass in  other functions as arguments to functions\n",
    "print(bust(8 + 9))"
   ]
  },
  {
   "cell_type": "code",
   "execution_count": 19,
   "id": "ecc153bb",
   "metadata": {},
   "outputs": [
    {
     "data": {
      "text/plain": [
       "\u001b[36mplayers\u001b[39m: \u001b[32mArray\u001b[39m[\u001b[32mString\u001b[39m] = \u001b[33mArray\u001b[39m(\u001b[32mnull\u001b[39m, \u001b[32mnull\u001b[39m, \u001b[32mnull\u001b[39m)"
      ]
     },
     "execution_count": 19,
     "metadata": {},
     "output_type": "execute_result"
    }
   ],
   "source": [
    "// Arrays\n",
    "// Parameterize an array: configure its types and parameter values\n",
    "val players: Array[String] = new Array[String](3)\n",
    "\n",
    "// Type parameter: String\n",
    "// Value parameter: length = 3"
   ]
  },
  {
   "cell_type": "code",
   "execution_count": 20,
   "id": "ef9c8cfa",
   "metadata": {},
   "outputs": [],
   "source": [
    "// Initialize elements: Array being sequences means they have order\n",
    "players(0) = \"Kennedy\"\n",
    "players(1) = \"Peter\"\n",
    "players(2) = \"James\""
   ]
  },
  {
   "cell_type": "code",
   "execution_count": 22,
   "id": "6005d17f",
   "metadata": {},
   "outputs": [
    {
     "name": "stdout",
     "output_type": "stream",
     "text": [
      "[Ljava.lang.String;@13573cd1"
     ]
    }
   ],
   "source": [
    "print(players)"
   ]
  },
  {
   "cell_type": "code",
   "execution_count": 23,
   "id": "9f5e590d",
   "metadata": {},
   "outputs": [
    {
     "data": {
      "text/plain": [
       "\u001b[36mres22\u001b[39m: \u001b[32mArray\u001b[39m[\u001b[32mString\u001b[39m] = \u001b[33mArray\u001b[39m(\u001b[32m\"Kennedy\"\u001b[39m, \u001b[32m\"Peter\"\u001b[39m, \u001b[32m\"James\"\u001b[39m)"
      ]
     },
     "execution_count": 23,
     "metadata": {},
     "output_type": "execute_result"
    }
   ],
   "source": [
    "players\n"
   ]
  },
  {
   "cell_type": "code",
   "execution_count": 25,
   "id": "147e61a0",
   "metadata": {},
   "outputs": [],
   "source": [
    "// Arrays are mutable\n",
    "players(0) = \"Grevians\" // Updating inplace\n",
    "// Vals cannot be reassigned, but if the object to which the val refers is mutable then it can change"
   ]
  },
  {
   "cell_type": "code",
   "execution_count": 26,
   "id": "ecaf8df6",
   "metadata": {},
   "outputs": [
    {
     "data": {
      "text/plain": [
       "\u001b[36mres25\u001b[39m: \u001b[32mArray\u001b[39m[\u001b[32mString\u001b[39m] = \u001b[33mArray\u001b[39m(\u001b[32m\"Grevians\"\u001b[39m, \u001b[32m\"Peter\"\u001b[39m, \u001b[32m\"James\"\u001b[39m)"
      ]
     },
     "execution_count": 26,
     "metadata": {},
     "output_type": "execute_result"
    }
   ],
   "source": [
    "players"
   ]
  },
  {
   "cell_type": "code",
   "execution_count": 26,
   "id": "21fe4249",
   "metadata": {},
   "outputs": [],
   "source": [
    "// Recommended to use val so we don't keep track of two things that can change ()"
   ]
  },
  {
   "cell_type": "code",
   "execution_count": 30,
   "id": "fd501fd2",
   "metadata": {},
   "outputs": [
    {
     "data": {
      "text/html": [
       "<div class=\"jp-RenderedText\">\n",
       "<pre><code><span style=\"color: rgb(0, 187, 187)\"><span class=\"ansi-cyan-fg\">players</span></span>: <span style=\"color: rgb(0, 187, 0)\"><span class=\"ansi-green-fg\">Array</span></span>[<span style=\"color: rgb(0, 187, 0)\"><span class=\"ansi-green-fg\">String</span></span>] = <style>@keyframes fadein { from { opacity: 0; } to { opacity: 1; } }</style><span style=\"animation: fadein 2s;\"><span style=\"color: yellow\"><span class=\"ansi-yellow-fg\">Array</span></span>(\n",
       "  <span style=\"color: rgb(0, 187, 0)\"><span class=\"ansi-green-fg\">null</span></span>,\n",
       "  <span style=\"color: rgb(0, 187, 0)\"><span class=\"ansi-green-fg\">null</span></span>,\n",
       "  <span style=\"color: rgb(0, 187, 0)\"><span class=\"ansi-green-fg\">null</span></span>,\n",
       "  <span style=\"color: rgb(0, 187, 0)\"><span class=\"ansi-green-fg\">null</span></span>,\n",
       "  <span style=\"color: rgb(0, 187, 0)\"><span class=\"ansi-green-fg\">null</span></span>,\n",
       "  <span style=\"color: rgb(0, 187, 0)\"><span class=\"ansi-green-fg\">null</span></span>,\n",
       "  <span style=\"color: rgb(0, 187, 0)\"><span class=\"ansi-green-fg\">null</span></span>,\n",
       "  <span style=\"color: rgb(0, 187, 0)\"><span class=\"ansi-green-fg\">null</span></span>,\n",
       "  <span style=\"color: rgb(0, 187, 0)\"><span class=\"ansi-green-fg\">null</span></span>,\n",
       "  <span style=\"color: rgb(0, 187, 0)\"><span class=\"ansi-green-fg\">null</span></span>\n",
       ")</span></code></pre>\n",
       "</div>"
      ],
      "text/plain": [
       "\u001b[36mplayers\u001b[39m: \u001b[32mArray\u001b[39m[\u001b[32mString\u001b[39m] = \u001b[33mArray\u001b[39m(\n",
       "  \u001b[32mnull\u001b[39m,\n",
       "  \u001b[32mnull\u001b[39m,\n",
       "  \u001b[32mnull\u001b[39m,\n",
       "  \u001b[32mnull\u001b[39m,\n",
       "  \u001b[32mnull\u001b[39m,\n",
       "  \u001b[32mnull\u001b[39m,\n",
       "  \u001b[32mnull\u001b[39m,\n",
       "  \u001b[32mnull\u001b[39m,\n",
       "  \u001b[32mnull\u001b[39m,\n",
       "  \u001b[32mnull\u001b[39m\n",
       ")"
      ]
     },
     "metadata": {},
     "output_type": "display_data"
    }
   ],
   "source": [
    "var players: Array[String] = Array(\"Alex\", \"Chen\", \"Victor\")"
   ]
  },
  {
   "cell_type": "code",
   "execution_count": 31,
   "id": "1be2cb69",
   "metadata": {},
   "outputs": [],
   "source": [
    "players(0) = \"John\""
   ]
  },
  {
   "cell_type": "code",
   "execution_count": 32,
   "id": "02952636",
   "metadata": {},
   "outputs": [],
   "source": [
    "players = new Array[String](10) // #Entirely changing the array object"
   ]
  },
  {
   "cell_type": "code",
   "execution_count": 33,
   "id": "f531c8d7",
   "metadata": {},
   "outputs": [
    {
     "data": {
      "text/plain": [
       "\u001b[36mmixedTypes\u001b[39m: \u001b[32mArray\u001b[39m[\u001b[32mAny\u001b[39m] = \u001b[33mArray\u001b[39m(\u001b[32mnull\u001b[39m, \u001b[32mnull\u001b[39m, \u001b[32mnull\u001b[39m, \u001b[32mnull\u001b[39m)"
      ]
     },
     "execution_count": 33,
     "metadata": {},
     "output_type": "execute_result"
    }
   ],
   "source": [
    "// The any supertype\n",
    "val mixedTypes = new Array[Any](4)"
   ]
  },
  {
   "cell_type": "code",
   "execution_count": 34,
   "id": "7acb9a46",
   "metadata": {},
   "outputs": [],
   "source": [
    "mixedTypes(0) = \"I love treees\"\n",
    "mixedTypes(1) = 70\n",
    "mixedTypes(2) = true"
   ]
  },
  {
   "cell_type": "code",
   "execution_count": 35,
   "id": "e1b15cf3",
   "metadata": {},
   "outputs": [
    {
     "data": {
      "text/plain": [
       "\u001b[36mres34\u001b[39m: \u001b[32mArray\u001b[39m[\u001b[32mAny\u001b[39m] = \u001b[33mArray\u001b[39m(\u001b[32m\"I love treees\"\u001b[39m, \u001b[32m70\u001b[39m, \u001b[32mtrue\u001b[39m, \u001b[32mnull\u001b[39m)"
      ]
     },
     "execution_count": 35,
     "metadata": {},
     "output_type": "execute_result"
    }
   ],
   "source": [
    "mixedTypes"
   ]
  },
  {
   "cell_type": "code",
   "execution_count": 36,
   "id": "0c75fb7e",
   "metadata": {},
   "outputs": [
    {
     "data": {
      "text/plain": [
       "\u001b[36mplayers\u001b[39m: \u001b[32mList\u001b[39m[\u001b[32mString\u001b[39m] = \u001b[33mList\u001b[39m(\u001b[32m\"Alex\"\u001b[39m, \u001b[32m\"Chen\"\u001b[39m, \u001b[32m\"Marta\"\u001b[39m)"
      ]
     },
     "execution_count": 36,
     "metadata": {},
     "output_type": "execute_result"
    }
   ],
   "source": [
    "// Lists\n",
    "val players = List(\"Alex\", \"Chen\", \"Marta\")"
   ]
  },
  {
   "cell_type": "code",
   "execution_count": 37,
   "id": "9d2c5f84",
   "metadata": {},
   "outputs": [
    {
     "data": {
      "text/plain": [
       "\u001b[36mres36\u001b[39m: \u001b[32mList\u001b[39m[\u001b[32mString\u001b[39m] = \u001b[33mList\u001b[39m(\u001b[32m\"Alex\"\u001b[39m, \u001b[32m\"Chen\"\u001b[39m, \u001b[32m\"Marta\"\u001b[39m)"
      ]
     },
     "execution_count": 37,
     "metadata": {},
     "output_type": "execute_result"
    }
   ],
   "source": [
    "players"
   ]
  },
  {
   "cell_type": "code",
   "execution_count": null,
   "id": "4d252f2c",
   "metadata": {},
   "outputs": [],
   "source": [
    "// // List methods\n",
    "// .drop()\n",
    "// .mkString(\", \")\n",
    "// .length()\n",
    "// .reverse()"
   ]
  },
  {
   "cell_type": "code",
   "execution_count": 38,
   "id": "bf230959",
   "metadata": {},
   "outputs": [
    {
     "data": {
      "text/plain": [
       "\u001b[36mnewPlayers\u001b[39m: \u001b[32mList\u001b[39m[\u001b[32mString\u001b[39m] = \u001b[33mList\u001b[39m(\u001b[32m\"Nancy\"\u001b[39m, \u001b[32m\"Alex\"\u001b[39m, \u001b[32m\"Chen\"\u001b[39m, \u001b[32m\"Marta\"\u001b[39m)"
      ]
     },
     "execution_count": 38,
     "metadata": {},
     "output_type": "execute_result"
    }
   ],
   "source": [
    "// Usefulness with immutability\n",
    "// :: operator (cons) prepends an item at the begining\n",
    "val newPlayers = \"Nancy\" :: players"
   ]
  },
  {
   "cell_type": "code",
   "execution_count": 39,
   "id": "7da560e3",
   "metadata": {},
   "outputs": [
    {
     "data": {
      "text/html": [
       "<div class=\"jp-RenderedText\">\n",
       "<pre><code><span style=\"color: rgb(0, 187, 187)\"><span class=\"ansi-cyan-fg\">players</span></span>: <span style=\"color: rgb(0, 187, 0)\"><span class=\"ansi-green-fg\">List</span></span>[<span style=\"color: rgb(0, 187, 0)\"><span class=\"ansi-green-fg\">String</span></span>] = <span style=\"color: yellow\"><span class=\"ansi-yellow-fg\">List</span></span>(<span style=\"color: rgb(0, 187, 0)\"><span class=\"ansi-green-fg\">&quot;Gregory&quot;</span></span>, <span style=\"color: rgb(0, 187, 0)\"><span class=\"ansi-green-fg\">&quot;Alex&quot;</span></span>, <span style=\"color: rgb(0, 187, 0)\"><span class=\"ansi-green-fg\">&quot;Chen&quot;</span></span>, <span style=\"color: rgb(0, 187, 0)\"><span class=\"ansi-green-fg\">&quot;Marta&quot;</span></span>)</code></pre>\n",
       "</div>"
      ],
      "text/plain": [
       "\u001b[36mplayers\u001b[39m: \u001b[32mList\u001b[39m[\u001b[32mString\u001b[39m] = \u001b[33mList\u001b[39m(\u001b[32m\"Gregory\"\u001b[39m, \u001b[32m\"Alex\"\u001b[39m, \u001b[32m\"Chen\"\u001b[39m, \u001b[32m\"Marta\"\u001b[39m)"
      ]
     },
     "metadata": {},
     "output_type": "display_data"
    }
   ],
   "source": [
    "var players = List(\"Alex\", \"Chen\", \"Marta\")\n",
    "players = \"Gregory\" :: players"
   ]
  },
  {
   "cell_type": "code",
   "execution_count": 41,
   "id": "0148bce7",
   "metadata": {},
   "outputs": [
    {
     "data": {
      "text/plain": [
       "\u001b[36mres40\u001b[39m: \u001b[32mNil\u001b[39m.type = \u001b[33mList\u001b[39m()"
      ]
     },
     "execution_count": 41,
     "metadata": {},
     "output_type": "execute_result"
    }
   ],
   "source": [
    "// Special way to create an empy list\n",
    "Nil"
   ]
  },
  {
   "cell_type": "code",
   "execution_count": 42,
   "id": "12df829a",
   "metadata": {},
   "outputs": [
    {
     "data": {
      "text/plain": [
       "\u001b[36mplayers\u001b[39m: \u001b[32mList\u001b[39m[\u001b[32mString\u001b[39m] = \u001b[33mList\u001b[39m(\u001b[32m\"Alex\"\u001b[39m, \u001b[32m\"Chen\"\u001b[39m, \u001b[32m\"Marta\"\u001b[39m)"
      ]
     },
     "execution_count": 42,
     "metadata": {},
     "output_type": "execute_result"
    }
   ],
   "source": [
    "// Initializing new list can compile Nil and :: cons operator\n",
    "val players = \"Alex\" :: \"Chen\" :: \"Marta\" :: Nil // Nil needed because :: belongs to list objects"
   ]
  },
  {
   "cell_type": "code",
   "execution_count": 43,
   "id": "810a8b28",
   "metadata": {},
   "outputs": [
    {
     "data": {
      "text/plain": [
       "\u001b[36mplayersA\u001b[39m: \u001b[32mList\u001b[39m[\u001b[32mString\u001b[39m] = \u001b[33mList\u001b[39m(\u001b[32m\"Victor\"\u001b[39m, \u001b[32m\"Mike\"\u001b[39m)\r\n",
       "\u001b[36mplayersB\u001b[39m: \u001b[32mList\u001b[39m[\u001b[32mString\u001b[39m] = \u001b[33mList\u001b[39m(\u001b[32m\"Kevin\"\u001b[39m, \u001b[32m\"Sam\"\u001b[39m)\r\n",
       "\u001b[36mallPlayers\u001b[39m: \u001b[32mList\u001b[39m[\u001b[32mString\u001b[39m] = \u001b[33mList\u001b[39m(\u001b[32m\"Victor\"\u001b[39m, \u001b[32m\"Mike\"\u001b[39m, \u001b[32m\"Kevin\"\u001b[39m, \u001b[32m\"Sam\"\u001b[39m)"
      ]
     },
     "execution_count": 43,
     "metadata": {},
     "output_type": "execute_result"
    }
   ],
   "source": [
    "// Concatenating Lists -> ::: concatenation operator\n",
    "val playersA = List(\"Victor\", \"Mike\")\n",
    "val playersB = List(\"Kevin\", \"Sam\")\n",
    "val allPlayers = playersA ::: playersB"
   ]
  },
  {
   "cell_type": "code",
   "execution_count": 44,
   "id": "cbaf0685",
   "metadata": {},
   "outputs": [
    {
     "data": {
      "text/plain": [
       "\u001b[36mres43\u001b[39m: \u001b[32mList\u001b[39m[\u001b[32mString\u001b[39m] = \u001b[33mList\u001b[39m(\u001b[32m\"Victor\"\u001b[39m, \u001b[32m\"Mike\"\u001b[39m, \u001b[32m\"Kevin\"\u001b[39m, \u001b[32m\"Sam\"\u001b[39m)"
      ]
     },
     "execution_count": 44,
     "metadata": {},
     "output_type": "execute_result"
    }
   ],
   "source": [
    "allPlayers"
   ]
  },
  {
   "cell_type": "code",
   "execution_count": null,
   "id": "12455181",
   "metadata": {},
   "outputs": [],
   "source": []
  }
 ],
 "metadata": {
  "kernelspec": {
   "display_name": "Scala",
   "language": "scala",
   "name": "scala"
  },
  "language_info": {
   "codemirror_mode": "text/x-scala",
   "file_extension": ".sc",
   "mimetype": "text/x-scala",
   "name": "scala",
   "nbconvert_exporter": "script",
   "version": "2.13.10"
  }
 },
 "nbformat": 4,
 "nbformat_minor": 5
}
