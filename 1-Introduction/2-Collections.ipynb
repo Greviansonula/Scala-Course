{
 "cells": [
  {
   "cell_type": "markdown",
   "id": "9830df7b",
   "metadata": {},
   "source": [
    "## Arrays"
   ]
  },
  {
   "cell_type": "code",
   "execution_count": 1,
   "id": "ecc153bb",
   "metadata": {},
   "outputs": [
    {
     "data": {
      "text/plain": [
       "\u001b[36mplayers\u001b[39m: \u001b[32mArray\u001b[39m[\u001b[32mString\u001b[39m] = \u001b[33mArray\u001b[39m(\u001b[32mnull\u001b[39m, \u001b[32mnull\u001b[39m, \u001b[32mnull\u001b[39m)"
      ]
     },
     "execution_count": 1,
     "metadata": {},
     "output_type": "execute_result"
    }
   ],
   "source": [
    "// Parameterize an array: configure its types and parameter values\n",
    "val players: Array[String] = new Array[String](3)\n",
    "\n",
    "// Type parameter: String\n",
    "// Value parameter: length = 3"
   ]
  },
  {
   "cell_type": "code",
   "execution_count": 2,
   "id": "ef9c8cfa",
   "metadata": {},
   "outputs": [],
   "source": [
    "// Initialize elements: Array being sequences means they have order\n",
    "players(0) = \"Kennedy\"\n",
    "players(1) = \"Peter\"\n",
    "players(2) = \"James\""
   ]
  },
  {
   "cell_type": "code",
   "execution_count": 3,
   "id": "6005d17f",
   "metadata": {},
   "outputs": [
    {
     "name": "stdout",
     "output_type": "stream",
     "text": [
      "[Ljava.lang.String;@158c317b"
     ]
    }
   ],
   "source": [
    "print(players)"
   ]
  },
  {
   "cell_type": "code",
   "execution_count": 4,
   "id": "9f5e590d",
   "metadata": {},
   "outputs": [
    {
     "data": {
      "text/plain": [
       "\u001b[36mres3\u001b[39m: \u001b[32mArray\u001b[39m[\u001b[32mString\u001b[39m] = \u001b[33mArray\u001b[39m(\u001b[32m\"Kennedy\"\u001b[39m, \u001b[32m\"Peter\"\u001b[39m, \u001b[32m\"James\"\u001b[39m)"
      ]
     },
     "execution_count": 4,
     "metadata": {},
     "output_type": "execute_result"
    }
   ],
   "source": [
    "players\n"
   ]
  },
  {
   "cell_type": "code",
   "execution_count": 5,
   "id": "147e61a0",
   "metadata": {},
   "outputs": [],
   "source": [
    "// Arrays are mutable\n",
    "players(0) = \"Grevians\" // Updating inplace\n",
    "// Vals cannot be reassigned, but if the object to which the val refers is mutable then it can change"
   ]
  },
  {
   "cell_type": "code",
   "execution_count": 6,
   "id": "ecaf8df6",
   "metadata": {},
   "outputs": [
    {
     "data": {
      "text/plain": [
       "\u001b[36mres5\u001b[39m: \u001b[32mArray\u001b[39m[\u001b[32mString\u001b[39m] = \u001b[33mArray\u001b[39m(\u001b[32m\"Grevians\"\u001b[39m, \u001b[32m\"Peter\"\u001b[39m, \u001b[32m\"James\"\u001b[39m)"
      ]
     },
     "execution_count": 6,
     "metadata": {},
     "output_type": "execute_result"
    }
   ],
   "source": [
    "players"
   ]
  },
  {
   "cell_type": "code",
   "execution_count": 6,
   "id": "21fe4249",
   "metadata": {},
   "outputs": [],
   "source": [
    "// Recommended to use val so we don't keep track of two things that can change ()"
   ]
  },
  {
   "cell_type": "code",
   "execution_count": 7,
   "id": "fd501fd2",
   "metadata": {},
   "outputs": [
    {
     "data": {
      "text/html": [
       "<div class=\"jp-RenderedText\">\n",
       "<pre><code><span style=\"color: rgb(0, 187, 187)\"><span class=\"ansi-cyan-fg\">players</span></span>: <span style=\"color: rgb(0, 187, 0)\"><span class=\"ansi-green-fg\">Array</span></span>[<span style=\"color: rgb(0, 187, 0)\"><span class=\"ansi-green-fg\">String</span></span>] = <span style=\"color: yellow\"><span class=\"ansi-yellow-fg\">Array</span></span>(<span style=\"color: rgb(0, 187, 0)\"><span class=\"ansi-green-fg\">&quot;Alex&quot;</span></span>, <span style=\"color: rgb(0, 187, 0)\"><span class=\"ansi-green-fg\">&quot;Chen&quot;</span></span>, <span style=\"color: rgb(0, 187, 0)\"><span class=\"ansi-green-fg\">&quot;Victor&quot;</span></span>)</code></pre>\n",
       "</div>"
      ],
      "text/plain": [
       "\u001b[36mplayers\u001b[39m: \u001b[32mArray\u001b[39m[\u001b[32mString\u001b[39m] = \u001b[33mArray\u001b[39m(\u001b[32m\"Alex\"\u001b[39m, \u001b[32m\"Chen\"\u001b[39m, \u001b[32m\"Victor\"\u001b[39m)"
      ]
     },
     "metadata": {},
     "output_type": "display_data"
    }
   ],
   "source": [
    "var players: Array[String] = Array(\"Alex\", \"Chen\", \"Victor\")"
   ]
  },
  {
   "cell_type": "code",
   "execution_count": 8,
   "id": "1be2cb69",
   "metadata": {},
   "outputs": [],
   "source": [
    "players(0) = \"John\""
   ]
  },
  {
   "cell_type": "code",
   "execution_count": 32,
   "id": "02952636",
   "metadata": {},
   "outputs": [],
   "source": [
    "players = new Array[String](10) // #Entirely changing the array object"
   ]
  },
  {
   "cell_type": "code",
   "execution_count": 33,
   "id": "f531c8d7",
   "metadata": {},
   "outputs": [
    {
     "data": {
      "text/plain": [
       "\u001b[36mmixedTypes\u001b[39m: \u001b[32mArray\u001b[39m[\u001b[32mAny\u001b[39m] = \u001b[33mArray\u001b[39m(\u001b[32mnull\u001b[39m, \u001b[32mnull\u001b[39m, \u001b[32mnull\u001b[39m, \u001b[32mnull\u001b[39m)"
      ]
     },
     "execution_count": 33,
     "metadata": {},
     "output_type": "execute_result"
    }
   ],
   "source": [
    "// The any supertype\n",
    "val mixedTypes = new Array[Any](4)"
   ]
  },
  {
   "cell_type": "code",
   "execution_count": 34,
   "id": "7acb9a46",
   "metadata": {},
   "outputs": [],
   "source": [
    "mixedTypes(0) = \"I love treees\"\n",
    "mixedTypes(1) = 70\n",
    "mixedTypes(2) = true"
   ]
  },
  {
   "cell_type": "code",
   "execution_count": 35,
   "id": "e1b15cf3",
   "metadata": {},
   "outputs": [
    {
     "data": {
      "text/plain": [
       "\u001b[36mres34\u001b[39m: \u001b[32mArray\u001b[39m[\u001b[32mAny\u001b[39m] = \u001b[33mArray\u001b[39m(\u001b[32m\"I love treees\"\u001b[39m, \u001b[32m70\u001b[39m, \u001b[32mtrue\u001b[39m, \u001b[32mnull\u001b[39m)"
      ]
     },
     "execution_count": 35,
     "metadata": {},
     "output_type": "execute_result"
    }
   ],
   "source": [
    "mixedTypes"
   ]
  },
  {
   "cell_type": "markdown",
   "id": "137f4160",
   "metadata": {},
   "source": [
    "## Lists"
   ]
  },
  {
   "cell_type": "code",
   "execution_count": 36,
   "id": "0c75fb7e",
   "metadata": {},
   "outputs": [
    {
     "data": {
      "text/plain": [
       "\u001b[36mplayers\u001b[39m: \u001b[32mList\u001b[39m[\u001b[32mString\u001b[39m] = \u001b[33mList\u001b[39m(\u001b[32m\"Alex\"\u001b[39m, \u001b[32m\"Chen\"\u001b[39m, \u001b[32m\"Marta\"\u001b[39m)"
      ]
     },
     "execution_count": 36,
     "metadata": {},
     "output_type": "execute_result"
    }
   ],
   "source": [
    "// Lists\n",
    "val players = List(\"Alex\", \"Chen\", \"Marta\")"
   ]
  },
  {
   "cell_type": "code",
   "execution_count": 37,
   "id": "9d2c5f84",
   "metadata": {},
   "outputs": [
    {
     "data": {
      "text/plain": [
       "\u001b[36mres36\u001b[39m: \u001b[32mList\u001b[39m[\u001b[32mString\u001b[39m] = \u001b[33mList\u001b[39m(\u001b[32m\"Alex\"\u001b[39m, \u001b[32m\"Chen\"\u001b[39m, \u001b[32m\"Marta\"\u001b[39m)"
      ]
     },
     "execution_count": 37,
     "metadata": {},
     "output_type": "execute_result"
    }
   ],
   "source": [
    "players"
   ]
  },
  {
   "cell_type": "code",
   "execution_count": null,
   "id": "4d252f2c",
   "metadata": {},
   "outputs": [],
   "source": [
    "// // List methods\n",
    "// .drop()\n",
    "// .mkString(\", \")\n",
    "// .length()\n",
    "// .reverse()"
   ]
  },
  {
   "cell_type": "code",
   "execution_count": 38,
   "id": "bf230959",
   "metadata": {},
   "outputs": [
    {
     "data": {
      "text/plain": [
       "\u001b[36mnewPlayers\u001b[39m: \u001b[32mList\u001b[39m[\u001b[32mString\u001b[39m] = \u001b[33mList\u001b[39m(\u001b[32m\"Nancy\"\u001b[39m, \u001b[32m\"Alex\"\u001b[39m, \u001b[32m\"Chen\"\u001b[39m, \u001b[32m\"Marta\"\u001b[39m)"
      ]
     },
     "execution_count": 38,
     "metadata": {},
     "output_type": "execute_result"
    }
   ],
   "source": [
    "// Usefulness with immutability\n",
    "// :: operator (cons) prepends an item at the begining\n",
    "val newPlayers = \"Nancy\" :: players"
   ]
  },
  {
   "cell_type": "code",
   "execution_count": 39,
   "id": "7da560e3",
   "metadata": {},
   "outputs": [
    {
     "data": {
      "text/html": [
       "<div class=\"jp-RenderedText\">\n",
       "<pre><code><span style=\"color: rgb(0, 187, 187)\"><span class=\"ansi-cyan-fg\">players</span></span>: <span style=\"color: rgb(0, 187, 0)\"><span class=\"ansi-green-fg\">List</span></span>[<span style=\"color: rgb(0, 187, 0)\"><span class=\"ansi-green-fg\">String</span></span>] = <span style=\"color: yellow\"><span class=\"ansi-yellow-fg\">List</span></span>(<span style=\"color: rgb(0, 187, 0)\"><span class=\"ansi-green-fg\">&quot;Gregory&quot;</span></span>, <span style=\"color: rgb(0, 187, 0)\"><span class=\"ansi-green-fg\">&quot;Alex&quot;</span></span>, <span style=\"color: rgb(0, 187, 0)\"><span class=\"ansi-green-fg\">&quot;Chen&quot;</span></span>, <span style=\"color: rgb(0, 187, 0)\"><span class=\"ansi-green-fg\">&quot;Marta&quot;</span></span>)</code></pre>\n",
       "</div>"
      ],
      "text/plain": [
       "\u001b[36mplayers\u001b[39m: \u001b[32mList\u001b[39m[\u001b[32mString\u001b[39m] = \u001b[33mList\u001b[39m(\u001b[32m\"Gregory\"\u001b[39m, \u001b[32m\"Alex\"\u001b[39m, \u001b[32m\"Chen\"\u001b[39m, \u001b[32m\"Marta\"\u001b[39m)"
      ]
     },
     "metadata": {},
     "output_type": "display_data"
    }
   ],
   "source": [
    "var players = List(\"Alex\", \"Chen\", \"Marta\")\n",
    "players = \"Gregory\" :: players"
   ]
  },
  {
   "cell_type": "code",
   "execution_count": 41,
   "id": "0148bce7",
   "metadata": {},
   "outputs": [
    {
     "data": {
      "text/plain": [
       "\u001b[36mres40\u001b[39m: \u001b[32mNil\u001b[39m.type = \u001b[33mList\u001b[39m()"
      ]
     },
     "execution_count": 41,
     "metadata": {},
     "output_type": "execute_result"
    }
   ],
   "source": [
    "// Special way to create an empy list\n",
    "Nil"
   ]
  },
  {
   "cell_type": "code",
   "execution_count": 42,
   "id": "12df829a",
   "metadata": {},
   "outputs": [
    {
     "data": {
      "text/plain": [
       "\u001b[36mplayers\u001b[39m: \u001b[32mList\u001b[39m[\u001b[32mString\u001b[39m] = \u001b[33mList\u001b[39m(\u001b[32m\"Alex\"\u001b[39m, \u001b[32m\"Chen\"\u001b[39m, \u001b[32m\"Marta\"\u001b[39m)"
      ]
     },
     "execution_count": 42,
     "metadata": {},
     "output_type": "execute_result"
    }
   ],
   "source": [
    "// Initializing new list can compile Nil and :: cons operator\n",
    "val players = \"Alex\" :: \"Chen\" :: \"Marta\" :: Nil // Nil needed because :: belongs to list objects"
   ]
  },
  {
   "cell_type": "code",
   "execution_count": 43,
   "id": "810a8b28",
   "metadata": {},
   "outputs": [
    {
     "data": {
      "text/plain": [
       "\u001b[36mplayersA\u001b[39m: \u001b[32mList\u001b[39m[\u001b[32mString\u001b[39m] = \u001b[33mList\u001b[39m(\u001b[32m\"Victor\"\u001b[39m, \u001b[32m\"Mike\"\u001b[39m)\r\n",
       "\u001b[36mplayersB\u001b[39m: \u001b[32mList\u001b[39m[\u001b[32mString\u001b[39m] = \u001b[33mList\u001b[39m(\u001b[32m\"Kevin\"\u001b[39m, \u001b[32m\"Sam\"\u001b[39m)\r\n",
       "\u001b[36mallPlayers\u001b[39m: \u001b[32mList\u001b[39m[\u001b[32mString\u001b[39m] = \u001b[33mList\u001b[39m(\u001b[32m\"Victor\"\u001b[39m, \u001b[32m\"Mike\"\u001b[39m, \u001b[32m\"Kevin\"\u001b[39m, \u001b[32m\"Sam\"\u001b[39m)"
      ]
     },
     "execution_count": 43,
     "metadata": {},
     "output_type": "execute_result"
    }
   ],
   "source": [
    "// Concatenating Lists -> ::: concatenation operator\n",
    "val playersA = List(\"Victor\", \"Mike\")\n",
    "val playersB = List(\"Kevin\", \"Sam\")\n",
    "val allPlayers = playersA ::: playersB"
   ]
  },
  {
   "cell_type": "code",
   "execution_count": 44,
   "id": "cbaf0685",
   "metadata": {},
   "outputs": [
    {
     "data": {
      "text/plain": [
       "\u001b[36mres43\u001b[39m: \u001b[32mList\u001b[39m[\u001b[32mString\u001b[39m] = \u001b[33mList\u001b[39m(\u001b[32m\"Victor\"\u001b[39m, \u001b[32m\"Mike\"\u001b[39m, \u001b[32m\"Kevin\"\u001b[39m, \u001b[32m\"Sam\"\u001b[39m)"
      ]
     },
     "execution_count": 44,
     "metadata": {},
     "output_type": "execute_result"
    }
   ],
   "source": [
    "allPlayers"
   ]
  },
  {
   "attachments": {},
   "cell_type": "markdown",
   "id": "12455181",
   "metadata": {},
   "source": [
    "Maps\n",
    "- key-value data structure: creted using Map() constructor or -> operator\n",
    "- They are immutable"
   ]
  },
  {
   "cell_type": "code",
   "execution_count": 9,
   "id": "d01eaecf",
   "metadata": {},
   "outputs": [
    {
     "data": {
      "text/plain": [
       "\u001b[36mstates\u001b[39m: \u001b[32mMap\u001b[39m[\u001b[32mString\u001b[39m, \u001b[32mString\u001b[39m] = \u001b[33mMap\u001b[39m(\u001b[32m\"AL\"\u001b[39m -> \u001b[32m\"Alabana\"\u001b[39m, \u001b[32m\"AK\"\u001b[39m -> \u001b[32m\"Alaska\"\u001b[39m)"
      ]
     },
     "execution_count": 9,
     "metadata": {},
     "output_type": "execute_result"
    }
   ],
   "source": [
    "val states = Map(\"AL\" -> \"Alabana\", \"AK\" -> \"Alaska\")"
   ]
  },
  {
   "cell_type": "code",
   "execution_count": 10,
   "id": "d2355167",
   "metadata": {},
   "outputs": [
    {
     "data": {
      "text/plain": [
       "\u001b[36mstates2\u001b[39m: \u001b[32mMap\u001b[39m[\u001b[32mInt\u001b[39m, \u001b[32mString\u001b[39m] = \u001b[33mMap\u001b[39m(\u001b[32m1\u001b[39m -> \u001b[32m\"one\"\u001b[39m, \u001b[32m2\u001b[39m -> \u001b[32m\"Two\"\u001b[39m)"
      ]
     },
     "execution_count": 10,
     "metadata": {},
     "output_type": "execute_result"
    }
   ],
   "source": [
    "val states2 = Map((1, \"one\"), (2, \"Two\"))"
   ]
  },
  {
   "attachments": {},
   "cell_type": "markdown",
   "id": "8bf7ad87",
   "metadata": {},
   "source": [
    "Sets\n",
    "- Collection of unique elements\n",
    "- Immutable"
   ]
  },
  {
   "cell_type": "code",
   "execution_count": 12,
   "id": "26d5b816",
   "metadata": {},
   "outputs": [
    {
     "data": {
      "text/plain": [
       "\u001b[36mnumbers\u001b[39m: \u001b[32mSet\u001b[39m[\u001b[32mInt\u001b[39m] = \u001b[33mHashSet\u001b[39m(\u001b[32m5\u001b[39m, \u001b[32m1\u001b[39m, \u001b[32m2\u001b[39m, \u001b[32m3\u001b[39m, \u001b[32m4\u001b[39m)"
      ]
     },
     "execution_count": 12,
     "metadata": {},
     "output_type": "execute_result"
    }
   ],
   "source": [
    "val numbers = Set(1, 2, 3, 4, 5)"
   ]
  },
  {
   "cell_type": "code",
   "execution_count": 17,
   "id": "4b259a34",
   "metadata": {},
   "outputs": [
    {
     "data": {
      "text/plain": [
       "\u001b[36mlst\u001b[39m: \u001b[32mList\u001b[39m[\u001b[32mInt\u001b[39m] = \u001b[33mList\u001b[39m(\u001b[32m1\u001b[39m, \u001b[32m2\u001b[39m, \u001b[32m1\u001b[39m, \u001b[32m4\u001b[39m, \u001b[32m3\u001b[39m, \u001b[32m3\u001b[39m, \u001b[32m4\u001b[39m)"
      ]
     },
     "execution_count": 17,
     "metadata": {},
     "output_type": "execute_result"
    }
   ],
   "source": [
    "// Initialize list\n",
    "val lst = 1::2::1::4::3::3::4::Nil"
   ]
  },
  {
   "cell_type": "code",
   "execution_count": 18,
   "id": "0c8e599b",
   "metadata": {},
   "outputs": [
    {
     "data": {
      "text/plain": [
       "\u001b[36mres17\u001b[39m: \u001b[32mBoolean\u001b[39m = \u001b[32mfalse\u001b[39m"
      ]
     },
     "execution_count": 18,
     "metadata": {},
     "output_type": "execute_result"
    }
   ],
   "source": [
    "// Check if set\n",
    "lst.toSet()"
   ]
  },
  {
   "cell_type": "code",
   "execution_count": 19,
   "id": "a858191e",
   "metadata": {},
   "outputs": [
    {
     "data": {
      "text/plain": [
       "\u001b[36mres18\u001b[39m: \u001b[32mSet\u001b[39m[\u001b[32mInt\u001b[39m] = \u001b[33mSet\u001b[39m(\u001b[32m1\u001b[39m, \u001b[32m2\u001b[39m, \u001b[32m4\u001b[39m, \u001b[32m3\u001b[39m)"
      ]
     },
     "execution_count": 19,
     "metadata": {},
     "output_type": "execute_result"
    }
   ],
   "source": [
    "// Convert to set\n",
    "lst.toSet"
   ]
  },
  {
   "attachments": {},
   "cell_type": "markdown",
   "id": "0dbd38b5",
   "metadata": {},
   "source": [
    "Collection Operations\n",
    "- map, filter, sum, fold, reduce, zip"
   ]
  },
  {
   "cell_type": "code",
   "execution_count": 21,
   "id": "c54713e5",
   "metadata": {},
   "outputs": [
    {
     "data": {
      "text/plain": [
       "\u001b[36mnumbers\u001b[39m: \u001b[32mList\u001b[39m[\u001b[32mInt\u001b[39m] = \u001b[33mList\u001b[39m(\u001b[32m1\u001b[39m, \u001b[32m2\u001b[39m, \u001b[32m3\u001b[39m, \u001b[32m4\u001b[39m, \u001b[32m5\u001b[39m)\n",
       "\u001b[36mdoubleNumbers\u001b[39m: \u001b[32mList\u001b[39m[\u001b[32mInt\u001b[39m] = \u001b[33mList\u001b[39m(\u001b[32m2\u001b[39m, \u001b[32m4\u001b[39m, \u001b[32m6\u001b[39m, \u001b[32m8\u001b[39m, \u001b[32m10\u001b[39m)\n",
       "\u001b[36mevenNumbers\u001b[39m: \u001b[32mList\u001b[39m[\u001b[32mInt\u001b[39m] = \u001b[33mList\u001b[39m(\u001b[32m2\u001b[39m, \u001b[32m4\u001b[39m)\n",
       "\u001b[36msum\u001b[39m: \u001b[32mInt\u001b[39m = \u001b[32m15\u001b[39m"
      ]
     },
     "execution_count": 21,
     "metadata": {},
     "output_type": "execute_result"
    }
   ],
   "source": [
    "val numbers = List(1, 2, 3, 4, 5)\n",
    "val doubleNumbers = numbers.map(_ * 2)\n",
    "val evenNumbers = numbers.filter(_ % 2 == 0)\n",
    "val sum = numbers.sum"
   ]
  },
  {
   "cell_type": "code",
   "execution_count": 24,
   "id": "0f480988",
   "metadata": {},
   "outputs": [
    {
     "data": {
      "text/plain": [
       "\u001b[36mnumbers\u001b[39m: \u001b[32mList\u001b[39m[\u001b[32mInt\u001b[39m] = \u001b[33mList\u001b[39m(\u001b[32m1\u001b[39m, \u001b[32m2\u001b[39m, \u001b[32m3\u001b[39m, \u001b[32m4\u001b[39m, \u001b[32m5\u001b[39m)\n",
       "\u001b[36msum\u001b[39m: \u001b[32mInt\u001b[39m = \u001b[32m15\u001b[39m"
      ]
     },
     "execution_count": 24,
     "metadata": {},
     "output_type": "execute_result"
    }
   ],
   "source": [
    "// fold\n",
    "val numbers = List(1, 2, 3, 4, 5)\n",
    "val sum = numbers.fold(0)(_ + _)"
   ]
  },
  {
   "cell_type": "code",
   "execution_count": 27,
   "id": "36eb8625",
   "metadata": {},
   "outputs": [
    {
     "data": {
      "text/plain": [
       "\u001b[36mnumbers\u001b[39m: \u001b[32mList\u001b[39m[\u001b[32mInt\u001b[39m] = \u001b[33mList\u001b[39m(\u001b[32m1\u001b[39m, \u001b[32m2\u001b[39m, \u001b[32m3\u001b[39m, \u001b[32m4\u001b[39m, \u001b[32m5\u001b[39m)\n",
       "\u001b[36mproduct\u001b[39m: \u001b[32mInt\u001b[39m = \u001b[32m120\u001b[39m"
      ]
     },
     "execution_count": 27,
     "metadata": {},
     "output_type": "execute_result"
    }
   ],
   "source": [
    "// Reduce\n",
    "val numbers = List(1, 2, 3, 4, 5)\n",
    "val product = numbers.reduce(_ * _)"
   ]
  },
  {
   "cell_type": "code",
   "execution_count": null,
   "id": "eefe20a1",
   "metadata": {},
   "outputs": [],
   "source": []
  }
 ],
 "metadata": {
  "kernelspec": {
   "display_name": "Scala",
   "language": "scala",
   "name": "scala"
  },
  "language_info": {
   "codemirror_mode": "text/x-scala",
   "file_extension": ".sc",
   "mimetype": "text/x-scala",
   "name": "scala",
   "nbconvert_exporter": "script",
   "version": "2.13.10"
  }
 },
 "nbformat": 4,
 "nbformat_minor": 5
}
